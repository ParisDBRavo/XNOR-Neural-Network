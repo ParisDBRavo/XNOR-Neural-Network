{
  "nbformat": 4,
  "nbformat_minor": 0,
  "metadata": {
    "colab": {
      "provenance": [],
      "collapsed_sections": []
    },
    "kernelspec": {
      "name": "python3",
      "display_name": "Python 3"
    },
    "language_info": {
      "name": "python"
    }
  },
  "cells": [
    {
      "cell_type": "markdown",
      "source": [
        ":\n",
        "{{ badge }}"
        "# Compuerta XNOR\n",
        
        "Se resuelve la compuerta XNOR por medio de una red de neuronas y con funciones de activación de escalón.\n",
        "\n",
        "\n",
        "| $x_1$ | $x_2$ | $y$\n",
        "| ------------- |:-------------:| -----:|\n",
        "|0 |0 |1|\n",
        "|0 |1 |0|\n",
        "|1 |0 |0|\n",
        "|1 |1 |1|\n",
        "\n",
        "\n",
        "\n"
      ],
      "metadata": {
        "id": "9CtHtWlEo86L"
      }
    },
    {
      "cell_type": "code",
      "execution_count": 2,
      "metadata": {
        "id": "8NWwGQPjmJEO"
      },
      "outputs": [],
      "source": [
        "def FuncionEscalon(valor):\n",
        "    if valor>0:\n",
        "        return 1\n",
        "    else:\n",
        "        return 0"
      ]
    },
    {
      "cell_type": "code",
      "source": [
        "def PrimeraCapa(x1,x2):\n",
        "    b1, b2= -15,5\n",
        "    W11, W12=10,-10\n",
        "    W21,W22=10,-10\n",
        "    res1=FuncionEscalon(W11*x1+W21*x2+b1)\n",
        "    res2=FuncionEscalon(W12*x1+W22*x2+b2)\n",
        "    #print(W21*x1+W22*x2+b2)\n",
        "    return res1,res2"
      ],
      "metadata": {
        "id": "woBqnDHLmU4N"
      },
      "execution_count": 3,
      "outputs": []
    },
    {
      "cell_type": "code",
      "source": [
        "def SegundaCapa(x1,x2):\n",
        "    b3=-5\n",
        "    W31,W32=10,10\n",
        "    return FuncionEscalon(W31*x1+W32*x2+b3)"
      ],
      "metadata": {
        "id": "gfNDiHbVmWDP"
      },
      "execution_count": 4,
      "outputs": []
    },
    {
      "cell_type": "code",
      "source": [
        "val1,val2= PrimeraCapa(1,1)\n",
        "print(SegundaCapa(val1,val2))"
      ],
      "metadata": {
        "colab": {
          "base_uri": "https://localhost:8080/"
        },
        "id": "gpXLrScvmcJm",
        "outputId": "3d82ef34-5ec7-418e-90a7-9a64aa6ee5a7"
      },
      "execution_count": 5,
      "outputs": [
        {
          "output_type": "stream",
          "name": "stdout",
          "text": [
            "1\n"
          ]
        }
      ]
    },
    {
      "cell_type": "code",
      "source": [
        "list=[0,1]\n",
        "for element1 in list:\n",
        "  for element2 in list:\n",
        "    val1,val2= PrimeraCapa(element1,element2)\n",
        "    print(f'Input = {element1,element2}   Resultado==>{SegundaCapa(val1,val2)}')"
      ],
      "metadata": {
        "colab": {
          "base_uri": "https://localhost:8080/"
        },
        "id": "o7sBtmhRbC1s",
        "outputId": "6eb8958c-fbdf-41f6-ab3f-bbe1a9d378ae"
      },
      "execution_count": 8,
      "outputs": [
        {
          "output_type": "stream",
          "name": "stdout",
          "text": [
            "Input = (0, 0)   Resultado==>1\n",
            "Input = (0, 1)   Resultado==>0\n",
            "Input = (1, 0)   Resultado==>0\n",
            "Input = (1, 1)   Resultado==>1\n"
          ]
        }
      ]
    }
  ]
}
